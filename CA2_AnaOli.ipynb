{
 "cells": [
  {
   "cell_type": "markdown",
   "id": "64f786f0",
   "metadata": {},
   "source": [
    "Installing and loading all the required libraries for the task of data loading, visualization, maninpulation, machine learning, sentimental analysis and creating the dashboard."
   ]
  },
  {
   "cell_type": "code",
   "execution_count": null,
   "id": "198e98b9",
   "metadata": {},
   "outputs": [],
   "source": [
    "!pip install dash"
   ]
  },
  {
   "cell_type": "code",
   "execution_count": 1,
   "id": "dbda7a64",
   "metadata": {},
   "outputs": [],
   "source": [
    "import pandas as pd\n",
    "import matplotlib.pyplot as plt\n",
    "import seaborn as sns\n",
    "import numpy as np\n",
    "\n",
    "from scipy import stats\n",
    "from scipy.stats import f_oneway\n",
    "from scipy.stats import chi2_contingency\n",
    "from scipy.stats import mannwhitneyu\n",
    "from scipy.stats import wilcoxon\n",
    "from scipy.stats import kruskal"
   ]
  },
  {
   "cell_type": "markdown",
   "id": "b09adf40",
   "metadata": {},
   "source": [
    "loading the first data which is in csv format and having a glimpse of the data."
   ]
  },
  {
   "cell_type": "code",
   "execution_count": 2,
   "id": "b09491bc",
   "metadata": {},
   "outputs": [
    {
     "data": {
      "text/html": [
       "<div>\n",
       "<style scoped>\n",
       "    .dataframe tbody tr th:only-of-type {\n",
       "        vertical-align: middle;\n",
       "    }\n",
       "\n",
       "    .dataframe tbody tr th {\n",
       "        vertical-align: top;\n",
       "    }\n",
       "\n",
       "    .dataframe thead th {\n",
       "        text-align: right;\n",
       "    }\n",
       "</style>\n",
       "<table border=\"1\" class=\"dataframe\">\n",
       "  <thead>\n",
       "    <tr style=\"text-align: right;\">\n",
       "      <th></th>\n",
       "      <th>STATISTIC</th>\n",
       "      <th>Statistic Label</th>\n",
       "      <th>TLIST(M1)</th>\n",
       "      <th>Month</th>\n",
       "      <th>C02935V03550</th>\n",
       "      <th>Airports in Ireland</th>\n",
       "      <th>C02191V04000</th>\n",
       "      <th>Country</th>\n",
       "      <th>C02354V02832</th>\n",
       "      <th>Direction</th>\n",
       "      <th>C02936V03551</th>\n",
       "      <th>Flight Type</th>\n",
       "      <th>UNIT</th>\n",
       "      <th>VALUE</th>\n",
       "    </tr>\n",
       "  </thead>\n",
       "  <tbody>\n",
       "    <tr>\n",
       "      <th>0</th>\n",
       "      <td>TAM07C01</td>\n",
       "      <td>Passengers</td>\n",
       "      <td>202001</td>\n",
       "      <td>2020 January</td>\n",
       "      <td>EI0M</td>\n",
       "      <td>All main airports</td>\n",
       "      <td>-</td>\n",
       "      <td>All Countries</td>\n",
       "      <td>-</td>\n",
       "      <td>All directions</td>\n",
       "      <td>-</td>\n",
       "      <td>All flights</td>\n",
       "      <td>Thousand</td>\n",
       "      <td>2388.4</td>\n",
       "    </tr>\n",
       "    <tr>\n",
       "      <th>1</th>\n",
       "      <td>TAM07C01</td>\n",
       "      <td>Passengers</td>\n",
       "      <td>202001</td>\n",
       "      <td>2020 January</td>\n",
       "      <td>EI0M</td>\n",
       "      <td>All main airports</td>\n",
       "      <td>-</td>\n",
       "      <td>All Countries</td>\n",
       "      <td>-</td>\n",
       "      <td>All directions</td>\n",
       "      <td>1</td>\n",
       "      <td>Scheduled</td>\n",
       "      <td>Thousand</td>\n",
       "      <td>2365.5</td>\n",
       "    </tr>\n",
       "    <tr>\n",
       "      <th>2</th>\n",
       "      <td>TAM07C01</td>\n",
       "      <td>Passengers</td>\n",
       "      <td>202001</td>\n",
       "      <td>2020 January</td>\n",
       "      <td>EI0M</td>\n",
       "      <td>All main airports</td>\n",
       "      <td>-</td>\n",
       "      <td>All Countries</td>\n",
       "      <td>-</td>\n",
       "      <td>All directions</td>\n",
       "      <td>2</td>\n",
       "      <td>Unscheduled</td>\n",
       "      <td>Thousand</td>\n",
       "      <td>22.8</td>\n",
       "    </tr>\n",
       "    <tr>\n",
       "      <th>3</th>\n",
       "      <td>TAM07C01</td>\n",
       "      <td>Passengers</td>\n",
       "      <td>202001</td>\n",
       "      <td>2020 January</td>\n",
       "      <td>EI0M</td>\n",
       "      <td>All main airports</td>\n",
       "      <td>-</td>\n",
       "      <td>All Countries</td>\n",
       "      <td>3</td>\n",
       "      <td>Arrival</td>\n",
       "      <td>-</td>\n",
       "      <td>All flights</td>\n",
       "      <td>Thousand</td>\n",
       "      <td>1200.0</td>\n",
       "    </tr>\n",
       "    <tr>\n",
       "      <th>4</th>\n",
       "      <td>TAM07C01</td>\n",
       "      <td>Passengers</td>\n",
       "      <td>202001</td>\n",
       "      <td>2020 January</td>\n",
       "      <td>EI0M</td>\n",
       "      <td>All main airports</td>\n",
       "      <td>-</td>\n",
       "      <td>All Countries</td>\n",
       "      <td>3</td>\n",
       "      <td>Arrival</td>\n",
       "      <td>1</td>\n",
       "      <td>Scheduled</td>\n",
       "      <td>Thousand</td>\n",
       "      <td>1187.7</td>\n",
       "    </tr>\n",
       "  </tbody>\n",
       "</table>\n",
       "</div>"
      ],
      "text/plain": [
       "  STATISTIC Statistic Label  TLIST(M1)         Month C02935V03550  \\\n",
       "0  TAM07C01      Passengers     202001  2020 January         EI0M   \n",
       "1  TAM07C01      Passengers     202001  2020 January         EI0M   \n",
       "2  TAM07C01      Passengers     202001  2020 January         EI0M   \n",
       "3  TAM07C01      Passengers     202001  2020 January         EI0M   \n",
       "4  TAM07C01      Passengers     202001  2020 January         EI0M   \n",
       "\n",
       "  Airports in Ireland C02191V04000        Country C02354V02832  \\\n",
       "0   All main airports            -  All Countries            -   \n",
       "1   All main airports            -  All Countries            -   \n",
       "2   All main airports            -  All Countries            -   \n",
       "3   All main airports            -  All Countries            3   \n",
       "4   All main airports            -  All Countries            3   \n",
       "\n",
       "        Direction C02936V03551  Flight Type      UNIT   VALUE  \n",
       "0  All directions            -  All flights  Thousand  2388.4  \n",
       "1  All directions            1    Scheduled  Thousand  2365.5  \n",
       "2  All directions            2  Unscheduled  Thousand    22.8  \n",
       "3         Arrival            -  All flights  Thousand  1200.0  \n",
       "4         Arrival            1    Scheduled  Thousand  1187.7  "
      ]
     },
     "execution_count": 2,
     "metadata": {},
     "output_type": "execute_result"
    }
   ],
   "source": [
    "df = pd.read_csv('TAM07.20231217131259.csv')\n",
    "df.head()"
   ]
  },
  {
   "cell_type": "markdown",
   "id": "6fafe441",
   "metadata": {},
   "source": [
    "Checking the info of the data, like data types, count and it's shape."
   ]
  },
  {
   "cell_type": "code",
   "execution_count": 3,
   "id": "220f2853",
   "metadata": {},
   "outputs": [
    {
     "name": "stdout",
     "output_type": "stream",
     "text": [
      "<class 'pandas.core.frame.DataFrame'>\n",
      "RangeIndex: 430110 entries, 0 to 430109\n",
      "Data columns (total 14 columns):\n",
      " #   Column               Non-Null Count   Dtype  \n",
      "---  ------               --------------   -----  \n",
      " 0   STATISTIC            430110 non-null  object \n",
      " 1   Statistic Label      430110 non-null  object \n",
      " 2   TLIST(M1)            430110 non-null  int64  \n",
      " 3   Month                430110 non-null  object \n",
      " 4   C02935V03550         430110 non-null  object \n",
      " 5   Airports in Ireland  430110 non-null  object \n",
      " 6   C02191V04000         430110 non-null  object \n",
      " 7   Country              430110 non-null  object \n",
      " 8   C02354V02832         430110 non-null  object \n",
      " 9   Direction            430110 non-null  object \n",
      " 10  C02936V03551         430110 non-null  object \n",
      " 11  Flight Type          430110 non-null  object \n",
      " 12  UNIT                 430110 non-null  object \n",
      " 13  VALUE                430110 non-null  float64\n",
      "dtypes: float64(1), int64(1), object(12)\n",
      "memory usage: 45.9+ MB\n"
     ]
    }
   ],
   "source": [
    "df.info()"
   ]
  },
  {
   "cell_type": "code",
   "execution_count": 4,
   "id": "c2fdceea",
   "metadata": {},
   "outputs": [
    {
     "data": {
      "text/plain": [
       "(430110, 14)"
      ]
     },
     "execution_count": 4,
     "metadata": {},
     "output_type": "execute_result"
    }
   ],
   "source": [
    "df.shape"
   ]
  },
  {
   "cell_type": "markdown",
   "id": "6a92e826",
   "metadata": {},
   "source": [
    "checking the unique countries in the dataset"
   ]
  },
  {
   "cell_type": "code",
   "execution_count": 5,
   "id": "dbc9f94e",
   "metadata": {},
   "outputs": [
    {
     "data": {
      "text/plain": [
       "array(['All Countries', 'Ireland (domestic)', 'Austria', 'Belgium',\n",
       "       'Bulgaria', 'Croatia', 'Cyprus', 'Czechia', 'Denmark', 'Estonia',\n",
       "       'Finland', 'France', 'Germany', 'Greece', 'Hungary', 'Italy',\n",
       "       'Latvia', 'Lithuania', 'Luxembourg', 'Malta', 'Netherlands',\n",
       "       'Poland', 'Portugal', 'Romania', 'Slovakia', 'Slovenia', 'Spain',\n",
       "       'Canary Islands', 'Sweden', 'EU27 excl Ireland 2020',\n",
       "       'United Kingdom (1)', 'England', 'Northern Ireland', 'Scotland',\n",
       "       'Wales', 'Other UK (1)', 'Iceland', 'Norway', 'Russia', 'Serbia',\n",
       "       'Switzerland', 'Turkiye', 'Other Europe (3)',\n",
       "       'Europe (48 Countries)', 'America', 'Canada', 'United States',\n",
       "       'Other America (5)', 'Africa (9)', 'Eygpt', 'Morocco', 'Tunisia',\n",
       "       'Other Africa (6)', 'Asia (8)', 'Bahrain', 'Israel',\n",
       "       'United Arab Emirates', 'Other Asian countries (4)',\n",
       "       'Oceania and Polar regions (1)'], dtype=object)"
      ]
     },
     "execution_count": 5,
     "metadata": {},
     "output_type": "execute_result"
    }
   ],
   "source": [
    "#finding the countries in our dataset\n",
    "df.Country.unique()"
   ]
  },
  {
   "cell_type": "markdown",
   "id": "e970f60c",
   "metadata": {},
   "source": [
    "- Since the data has several countries,we need to selected only a few countries that we will compare with Ireland.\n",
    "- Subsetting the data by selecting Ireland and countries that have a population proportion to it which are Denmark, Finland and Slovakia."
   ]
  },
  {
   "cell_type": "code",
   "execution_count": 6,
   "id": "0565c177",
   "metadata": {},
   "outputs": [],
   "source": [
    "# filtering to get countries with proportinal population to Ireland\n",
    "selected_countries = ['Ireland (domestic)', 'Denmark', 'Finland', 'Slovakia']\n",
    "\n",
    "# Filter rows where the 'Country' column is in the list of selected countries\n",
    "df_selected = df[df['Country'].isin(selected_countries)]\n",
    "\n",
    "# renaming Ireland\n",
    "df_selected.loc[df_selected['Country'] == 'Ireland (domestic)', 'Country'] = 'Ireland'"
   ]
  },
  {
   "cell_type": "markdown",
   "id": "a1a72572",
   "metadata": {},
   "source": [
    "It can be noted we have the selected countries and our data and shape of the data has changed."
   ]
  },
  {
   "cell_type": "code",
   "execution_count": 7,
   "id": "74a609ef",
   "metadata": {},
   "outputs": [
    {
     "data": {
      "text/plain": [
       "array(['Ireland', 'Denmark', 'Finland', 'Slovakia'], dtype=object)"
      ]
     },
     "execution_count": 7,
     "metadata": {},
     "output_type": "execute_result"
    }
   ],
   "source": [
    "df_selected.Country.unique()"
   ]
  },
  {
   "cell_type": "code",
   "execution_count": 8,
   "id": "6a4be8d3",
   "metadata": {},
   "outputs": [
    {
     "data": {
      "text/plain": [
       "(29160, 14)"
      ]
     },
     "execution_count": 8,
     "metadata": {},
     "output_type": "execute_result"
    }
   ],
   "source": [
    "df_selected.shape"
   ]
  },
  {
   "cell_type": "markdown",
   "id": "70362013",
   "metadata": {},
   "source": [
    "- Filtering the data to remain with columns that will be needed for analysis.\n",
    "- 8 columns are kept these will be needed for analysis."
   ]
  },
  {
   "cell_type": "code",
   "execution_count": 9,
   "id": "a80031d7",
   "metadata": {},
   "outputs": [],
   "source": [
    "# keeping required columns\n",
    "selected_columns = ['Statistic Label', 'Month', 'Airports in Ireland', 'Country', 'Direction', 'Flight Type', 'UNIT', 'VALUE']\n",
    "\n",
    "# Create a new DataFrame with the selected columns\n",
    "df_selected = df_selected[selected_columns]\n",
    "\n",
    "# Replace spaces with underscores in column names\n",
    "df_selected.columns = df_selected.columns.str.replace(' ', '_')"
   ]
  },
  {
   "cell_type": "code",
   "execution_count": 10,
   "id": "88f629a3",
   "metadata": {},
   "outputs": [
    {
     "name": "stdout",
     "output_type": "stream",
     "text": [
      "<class 'pandas.core.frame.DataFrame'>\n",
      "Index: 29160 entries, 9 to 429803\n",
      "Data columns (total 8 columns):\n",
      " #   Column               Non-Null Count  Dtype  \n",
      "---  ------               --------------  -----  \n",
      " 0   Statistic_Label      29160 non-null  object \n",
      " 1   Month                29160 non-null  object \n",
      " 2   Airports_in_Ireland  29160 non-null  object \n",
      " 3   Country              29160 non-null  object \n",
      " 4   Direction            29160 non-null  object \n",
      " 5   Flight_Type          29160 non-null  object \n",
      " 6   UNIT                 29160 non-null  object \n",
      " 7   VALUE                29160 non-null  float64\n",
      "dtypes: float64(1), object(7)\n",
      "memory usage: 2.0+ MB\n"
     ]
    }
   ],
   "source": [
    "df_selected.info()"
   ]
  },
  {
   "cell_type": "markdown",
   "id": "62a7f112",
   "metadata": {},
   "source": [
    "Creating a new column from the month column by splitting the month column. The new year column will be needed for easy vizualization during the explnatory data analysis."
   ]
  },
  {
   "cell_type": "code",
   "execution_count": 11,
   "id": "32947c08",
   "metadata": {},
   "outputs": [],
   "source": [
    "# creating year column by splitting the month column\n",
    "df_selected[['Year', 'Month']] = df_selected['Month'].str.split(expand=True)"
   ]
  },
  {
   "cell_type": "code",
   "execution_count": 12,
   "id": "f8ffe64c",
   "metadata": {},
   "outputs": [
    {
     "data": {
      "text/html": [
       "<div>\n",
       "<style scoped>\n",
       "    .dataframe tbody tr th:only-of-type {\n",
       "        vertical-align: middle;\n",
       "    }\n",
       "\n",
       "    .dataframe tbody tr th {\n",
       "        vertical-align: top;\n",
       "    }\n",
       "\n",
       "    .dataframe thead th {\n",
       "        text-align: right;\n",
       "    }\n",
       "</style>\n",
       "<table border=\"1\" class=\"dataframe\">\n",
       "  <thead>\n",
       "    <tr style=\"text-align: right;\">\n",
       "      <th></th>\n",
       "      <th>Statistic_Label</th>\n",
       "      <th>Month</th>\n",
       "      <th>Airports_in_Ireland</th>\n",
       "      <th>Country</th>\n",
       "      <th>Direction</th>\n",
       "      <th>Flight_Type</th>\n",
       "      <th>UNIT</th>\n",
       "      <th>VALUE</th>\n",
       "      <th>Year</th>\n",
       "    </tr>\n",
       "  </thead>\n",
       "  <tbody>\n",
       "    <tr>\n",
       "      <th>9</th>\n",
       "      <td>Passengers</td>\n",
       "      <td>January</td>\n",
       "      <td>All main airports</td>\n",
       "      <td>Ireland</td>\n",
       "      <td>All directions</td>\n",
       "      <td>All flights</td>\n",
       "      <td>Thousand</td>\n",
       "      <td>9.7</td>\n",
       "      <td>2020</td>\n",
       "    </tr>\n",
       "    <tr>\n",
       "      <th>10</th>\n",
       "      <td>Passengers</td>\n",
       "      <td>January</td>\n",
       "      <td>All main airports</td>\n",
       "      <td>Ireland</td>\n",
       "      <td>All directions</td>\n",
       "      <td>Scheduled</td>\n",
       "      <td>Thousand</td>\n",
       "      <td>9.7</td>\n",
       "      <td>2020</td>\n",
       "    </tr>\n",
       "    <tr>\n",
       "      <th>11</th>\n",
       "      <td>Passengers</td>\n",
       "      <td>January</td>\n",
       "      <td>All main airports</td>\n",
       "      <td>Ireland</td>\n",
       "      <td>All directions</td>\n",
       "      <td>Unscheduled</td>\n",
       "      <td>Thousand</td>\n",
       "      <td>0.0</td>\n",
       "      <td>2020</td>\n",
       "    </tr>\n",
       "    <tr>\n",
       "      <th>12</th>\n",
       "      <td>Passengers</td>\n",
       "      <td>January</td>\n",
       "      <td>All main airports</td>\n",
       "      <td>Ireland</td>\n",
       "      <td>Arrival</td>\n",
       "      <td>All flights</td>\n",
       "      <td>Thousand</td>\n",
       "      <td>5.1</td>\n",
       "      <td>2020</td>\n",
       "    </tr>\n",
       "    <tr>\n",
       "      <th>13</th>\n",
       "      <td>Passengers</td>\n",
       "      <td>January</td>\n",
       "      <td>All main airports</td>\n",
       "      <td>Ireland</td>\n",
       "      <td>Arrival</td>\n",
       "      <td>Scheduled</td>\n",
       "      <td>Thousand</td>\n",
       "      <td>5.0</td>\n",
       "      <td>2020</td>\n",
       "    </tr>\n",
       "  </tbody>\n",
       "</table>\n",
       "</div>"
      ],
      "text/plain": [
       "   Statistic_Label    Month Airports_in_Ireland  Country       Direction  \\\n",
       "9       Passengers  January   All main airports  Ireland  All directions   \n",
       "10      Passengers  January   All main airports  Ireland  All directions   \n",
       "11      Passengers  January   All main airports  Ireland  All directions   \n",
       "12      Passengers  January   All main airports  Ireland         Arrival   \n",
       "13      Passengers  January   All main airports  Ireland         Arrival   \n",
       "\n",
       "    Flight_Type      UNIT  VALUE  Year  \n",
       "9   All flights  Thousand    9.7  2020  \n",
       "10    Scheduled  Thousand    9.7  2020  \n",
       "11  Unscheduled  Thousand    0.0  2020  \n",
       "12  All flights  Thousand    5.1  2020  \n",
       "13    Scheduled  Thousand    5.0  2020  "
      ]
     },
     "execution_count": 12,
     "metadata": {},
     "output_type": "execute_result"
    }
   ],
   "source": [
    "df_selected.head()"
   ]
  }
 ],
 "metadata": {
  "kernelspec": {
   "display_name": "Python 3 (ipykernel)",
   "language": "python",
   "name": "python3"
  },
  "language_info": {
   "codemirror_mode": {
    "name": "ipython",
    "version": 3
   },
   "file_extension": ".py",
   "mimetype": "text/x-python",
   "name": "python",
   "nbconvert_exporter": "python",
   "pygments_lexer": "ipython3",
   "version": "3.11.5"
  }
 },
 "nbformat": 4,
 "nbformat_minor": 5
}
